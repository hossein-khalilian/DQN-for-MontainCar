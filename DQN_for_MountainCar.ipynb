{
  "nbformat": 4,
  "nbformat_minor": 0,
  "metadata": {
    "colab": {
      "name": "DQN for MountainCar.ipynb",
      "provenance": [],
      "collapsed_sections": [],
      "include_colab_link": true
    },
    "kernelspec": {
      "name": "python3",
      "display_name": "Python 3"
    },
    "pycharm": {
      "stem_cell": {
        "cell_type": "raw",
        "metadata": {
          "collapsed": false
        },
        "source": []
      }
    }
  },
  "cells": [
    {
      "cell_type": "markdown",
      "metadata": {
        "id": "view-in-github",
        "colab_type": "text"
      },
      "source": [
        "<a href=\"https://colab.research.google.com/github/hossein-khalilian/DQN-for-MontainCar/blob/main/DQN_for_MountainCar.ipynb\" target=\"_parent\"><img src=\"https://colab.research.google.com/assets/colab-badge.svg\" alt=\"Open In Colab\"/></a>"
      ]
    },
    {
      "cell_type": "markdown",
      "metadata": {
        "id": "DRlNqFbwI0N2"
      },
      "source": [
        "# Setup"
      ]
    },
    {
      "cell_type": "code",
      "metadata": {
        "id": "KEHR2Ui-lo8O",
        "colab": {
          "base_uri": "https://localhost:8080/"
        },
        "outputId": "dfb445e6-543b-4d5a-a310-c39261dcb2e6"
      },
      "source": [
        "!pip install PILLOW\n",
        "!pip install tf-agents\n",
        "!pip install pyvirtualdisplay\n",
        "!sudo apt-get install -y xvfb ffmpeg\n",
        "\n",
        "# !pip install 'gym==0.10.11'\n",
        "# !pip install 'pyglet==1.3.2'\n",
        "# !pip install 'imageio==2.4.0'\n",
        "# !pip install --upgrade tensorflow-probability"
      ],
      "execution_count": 1,
      "outputs": [
        {
          "output_type": "stream",
          "name": "stdout",
          "text": [
            "Requirement already satisfied: PILLOW in /usr/local/lib/python3.7/dist-packages (7.1.2)\n",
            "Collecting tf-agents\n",
            "  Downloading tf_agents-0.11.0-py3-none-any.whl (1.3 MB)\n",
            "\u001b[K     |████████████████████████████████| 1.3 MB 28.2 MB/s \n",
            "\u001b[?25hRequirement already satisfied: gin-config>=0.4.0 in /usr/local/lib/python3.7/dist-packages (from tf-agents) (0.5.0)\n",
            "Requirement already satisfied: gym>=0.17.0 in /usr/local/lib/python3.7/dist-packages (from tf-agents) (0.17.3)\n",
            "Requirement already satisfied: pillow in /usr/local/lib/python3.7/dist-packages (from tf-agents) (7.1.2)\n",
            "Requirement already satisfied: tensorflow-probability>=0.14.1 in /usr/local/lib/python3.7/dist-packages (from tf-agents) (0.14.1)\n",
            "Requirement already satisfied: six>=1.10.0 in /usr/local/lib/python3.7/dist-packages (from tf-agents) (1.15.0)\n",
            "Requirement already satisfied: typing-extensions>=3.7.4.3 in /usr/local/lib/python3.7/dist-packages (from tf-agents) (3.10.0.2)\n",
            "Requirement already satisfied: cloudpickle>=1.3 in /usr/local/lib/python3.7/dist-packages (from tf-agents) (1.3.0)\n",
            "Requirement already satisfied: numpy>=1.13.3 in /usr/local/lib/python3.7/dist-packages (from tf-agents) (1.19.5)\n",
            "Requirement already satisfied: absl-py>=0.6.1 in /usr/local/lib/python3.7/dist-packages (from tf-agents) (0.12.0)\n",
            "Requirement already satisfied: protobuf>=3.11.3 in /usr/local/lib/python3.7/dist-packages (from tf-agents) (3.17.3)\n",
            "Requirement already satisfied: wrapt>=1.11.1 in /usr/local/lib/python3.7/dist-packages (from tf-agents) (1.13.3)\n",
            "Requirement already satisfied: scipy in /usr/local/lib/python3.7/dist-packages (from gym>=0.17.0->tf-agents) (1.4.1)\n",
            "Requirement already satisfied: pyglet<=1.5.0,>=1.4.0 in /usr/local/lib/python3.7/dist-packages (from gym>=0.17.0->tf-agents) (1.5.0)\n",
            "Requirement already satisfied: future in /usr/local/lib/python3.7/dist-packages (from pyglet<=1.5.0,>=1.4.0->gym>=0.17.0->tf-agents) (0.16.0)\n",
            "Requirement already satisfied: dm-tree in /usr/local/lib/python3.7/dist-packages (from tensorflow-probability>=0.14.1->tf-agents) (0.1.6)\n",
            "Requirement already satisfied: gast>=0.3.2 in /usr/local/lib/python3.7/dist-packages (from tensorflow-probability>=0.14.1->tf-agents) (0.4.0)\n",
            "Requirement already satisfied: decorator in /usr/local/lib/python3.7/dist-packages (from tensorflow-probability>=0.14.1->tf-agents) (4.4.2)\n",
            "Installing collected packages: tf-agents\n",
            "Successfully installed tf-agents-0.11.0\n",
            "Collecting pyvirtualdisplay\n",
            "  Downloading PyVirtualDisplay-2.2-py3-none-any.whl (15 kB)\n",
            "Collecting EasyProcess\n",
            "  Downloading EasyProcess-0.3-py2.py3-none-any.whl (7.9 kB)\n",
            "Installing collected packages: EasyProcess, pyvirtualdisplay\n",
            "Successfully installed EasyProcess-0.3 pyvirtualdisplay-2.2\n",
            "Reading package lists... Done\n",
            "Building dependency tree       \n",
            "Reading state information... Done\n",
            "ffmpeg is already the newest version (7:3.4.8-0ubuntu0.2).\n",
            "The following NEW packages will be installed:\n",
            "  xvfb\n",
            "0 upgraded, 1 newly installed, 0 to remove and 37 not upgraded.\n",
            "Need to get 784 kB of archives.\n",
            "After this operation, 2,270 kB of additional disk space will be used.\n",
            "Get:1 http://archive.ubuntu.com/ubuntu bionic-updates/universe amd64 xvfb amd64 2:1.19.6-1ubuntu4.9 [784 kB]\n",
            "Fetched 784 kB in 1s (1,259 kB/s)\n",
            "debconf: unable to initialize frontend: Dialog\n",
            "debconf: (No usable dialog-like program is installed, so the dialog based frontend cannot be used. at /usr/share/perl5/Debconf/FrontEnd/Dialog.pm line 76, <> line 1.)\n",
            "debconf: falling back to frontend: Readline\n",
            "debconf: unable to initialize frontend: Readline\n",
            "debconf: (This frontend requires a controlling tty.)\n",
            "debconf: falling back to frontend: Teletype\n",
            "dpkg-preconfigure: unable to re-open stdin: \n",
            "Selecting previously unselected package xvfb.\n",
            "(Reading database ... 155219 files and directories currently installed.)\n",
            "Preparing to unpack .../xvfb_2%3a1.19.6-1ubuntu4.9_amd64.deb ...\n",
            "Unpacking xvfb (2:1.19.6-1ubuntu4.9) ...\n",
            "Setting up xvfb (2:1.19.6-1ubuntu4.9) ...\n",
            "Processing triggers for man-db (2.8.3-2ubuntu0.1) ...\n"
          ]
        }
      ]
    },
    {
      "cell_type": "code",
      "metadata": {
        "id": "sMitx5qSgJk1"
      },
      "source": [
        "from __future__ import absolute_import, division, print_function\n",
        "\n",
        "import base64\n",
        "import imageio\n",
        "import IPython\n",
        "import PIL.Image\n",
        "import matplotlib\n",
        "import numpy as np\n",
        "import tensorflow as tf\n",
        "import pyvirtualdisplay\n",
        "import matplotlib.pyplot as plt\n",
        "\n",
        "from tf_agents.utils import common\n",
        "from tf_agents.eval import metric_utils\n",
        "from tf_agents.networks import q_network\n",
        "from tf_agents.metrics import tf_metrics\n",
        "from tf_agents.agents.dqn import dqn_agent\n",
        "from tf_agents.environments import suite_gym\n",
        "from tf_agents.trajectories import trajectory\n",
        "from tf_agents.policies import random_tf_policy\n",
        "from tf_agents.drivers import dynamic_step_driver\n",
        "from tf_agents.environments import tf_py_environment\n",
        "from tf_agents.replay_buffers import tf_uniform_replay_buffer"
      ],
      "execution_count": 2,
      "outputs": []
    },
    {
      "cell_type": "code",
      "metadata": {
        "id": "J6HsdS5GbSjd"
      },
      "source": [
        "tf.compat.v1.enable_v2_behavior()\n",
        "display = pyvirtualdisplay.Display(visible=0, size=(1400, 900)).start()"
      ],
      "execution_count": 3,
      "outputs": []
    },
    {
      "cell_type": "markdown",
      "metadata": {
        "id": "LmC0NDhdLIKY"
      },
      "source": [
        "## Hyperparameters"
      ]
    },
    {
      "cell_type": "code",
      "metadata": {
        "id": "HC1kNrOsLSIZ"
      },
      "source": [
        "num_iterations = 20000 # @param {type:\"integer\"}\n",
        "\n",
        "initial_collect_steps = 1000  # @param {type:\"integer\"} \n",
        "collect_steps_per_iteration = 1  # @param {type:\"integer\"}\n",
        "replay_buffer_max_length = 100000  # @param {type:\"integer\"}\n",
        "\n",
        "batch_size = 64  # @param {type:\"integer\"}\n",
        "learning_rate = 1e-3  # @param {type:\"number\"}\n",
        "log_interval = 200  # @param {type:\"integer\"}\n",
        "\n",
        "num_eval_episodes = 3  # @param {type:\"integer\"}\n",
        "eval_interval = 1000  # @param {type:\"integer\"}"
      ],
      "execution_count": 4,
      "outputs": []
    },
    {
      "cell_type": "code",
      "metadata": {
        "id": "pYEz-S9gEv2-",
        "colab": {
          "base_uri": "https://localhost:8080/"
        },
        "outputId": "452abf9e-018c-4c96-e95e-eb25f0aa448a"
      },
      "source": [
        "env_name = 'MountainCar-v0'\n",
        "env = suite_gym.load(env_name, discount=0.9)\n",
        "print('Observation Spec:')\n",
        "print(env.time_step_spec().observation)\n",
        "print('Reward Spec:')\n",
        "print(env.time_step_spec().reward)\n",
        "print('Action Spec:')\n",
        "print(env.action_spec())"
      ],
      "execution_count": 5,
      "outputs": [
        {
          "output_type": "stream",
          "name": "stdout",
          "text": [
            "Observation Spec:\n",
            "BoundedArraySpec(shape=(2,), dtype=dtype('float32'), name='observation', minimum=[-1.2  -0.07], maximum=[0.6  0.07])\n",
            "Reward Spec:\n",
            "ArraySpec(shape=(), dtype=dtype('float32'), name='reward')\n",
            "Action Spec:\n",
            "BoundedArraySpec(shape=(), dtype=dtype('int64'), name='action', minimum=0, maximum=2)\n"
          ]
        }
      ]
    },
    {
      "cell_type": "code",
      "metadata": {
        "id": "N7brXNIGWXjC"
      },
      "source": [
        "train_py_env = suite_gym.load(env_name, discount=0.99, max_episode_steps=600)\n",
        "eval_py_env = suite_gym.load(env_name, discount=0.99, max_episode_steps=600)\n",
        "\n",
        "train_env = tf_py_environment.TFPyEnvironment(train_py_env)\n",
        "eval_env = tf_py_environment.TFPyEnvironment(eval_py_env)"
      ],
      "execution_count": 6,
      "outputs": []
    },
    {
      "cell_type": "markdown",
      "metadata": {
        "id": "E9lW_OZYFR8A"
      },
      "source": [
        "## Agent\n",
        "\n",
        "The DDQN agent can be used in any environment which has a discrete action space.\n",
        "\n",
        "At the heart of a DQN Agent is a `QNetwork`, a neural network model that can learn to predict `QValues` (expected returns) for all actions, given an observation from the environment.\n",
        "\n",
        "Use `tf_agents.networks.q_network` to create a `QNetwork`, passing in the `observation_spec`, `action_spec`, and a tuple describing the number and size of the model's hidden layers.\n"
      ]
    },
    {
      "cell_type": "code",
      "metadata": {
        "id": "TgkdEPg_muzV"
      },
      "source": [
        "fc_layer_params = (64, 128,)\n",
        "\n",
        "q_net = q_network.QNetwork(\n",
        "    train_env.observation_spec(),\n",
        "    train_env.action_spec(),\n",
        "    fc_layer_params=fc_layer_params)"
      ],
      "execution_count": 7,
      "outputs": []
    },
    {
      "cell_type": "markdown",
      "metadata": {
        "id": "z62u55hSmviJ"
      },
      "source": [
        "Now use `tf_agents.agents.dqn.Ddqn_agent` to instantiate a `DdqnAgent`. In addition to the `time_step_spec`, `action_spec` and the QNetwork, the agent constructor also requires an optimizer (in this case, `AdamOptimizer`), a loss function, and an integer step counter."
      ]
    },
    {
      "cell_type": "code",
      "metadata": {
        "id": "jbY4yrjTEyc9"
      },
      "source": [
        "optimizer = tf.compat.v1.train.AdamOptimizer(learning_rate=learning_rate)\n",
        "\n",
        "train_step_counter = tf.Variable(0)\n",
        "\n",
        "agent = dqn_agent.DdqnAgent(\n",
        "    train_env.time_step_spec(),\n",
        "    train_env.action_spec(),\n",
        "    q_network=q_net,\n",
        "    optimizer=optimizer,\n",
        "    td_errors_loss_fn=common.element_wise_squared_loss,\n",
        "    train_step_counter=train_step_counter)\n",
        "\n",
        "agent.initialize()"
      ],
      "execution_count": 8,
      "outputs": []
    },
    {
      "cell_type": "markdown",
      "metadata": {
        "id": "I0KLrEPwkn5x"
      },
      "source": [
        "## Policies\n",
        "\n",
        "A policy defines the way an agent acts in an environment. Typically, the goal of reinforcement learning is to train the underlying model until the policy produces the desired outcome.\n",
        "\n",
        "Agents contain two policies: \n",
        "\n",
        "-   `agent.policy` — The main policy that is used for evaluation and deployment.\n",
        "-   `agent.collect_policy` — A second policy that is used for data collection.\n",
        "\n",
        "Policies can be created independently of agents. For example, use `tf_agents.policies.random_tf_policy` to create a policy which will randomly select an action for each `time_step`.\n"
      ]
    },
    {
      "cell_type": "code",
      "metadata": {
        "id": "BwY7StuMkuV4"
      },
      "source": [
        "eval_policy = agent.policy\n",
        "collect_policy = agent.collect_policy\n",
        "\n",
        "random_policy = random_tf_policy.RandomTFPolicy(train_env.time_step_spec(), train_env.action_spec())"
      ],
      "execution_count": 9,
      "outputs": []
    },
    {
      "cell_type": "markdown",
      "metadata": {
        "id": "94rCXQtbUbXv"
      },
      "source": [
        "## Metrics and Evaluation\n",
        "\n",
        "The most common metric used to evaluate a policy is the average return. The return is the sum of rewards obtained while running a policy in an environment for an episode. Several episodes are run, creating an average return.\n",
        "\n",
        "The following function computes the average return of a policy, given the policy, environment, and a number of episodes.\n"
      ]
    },
    {
      "cell_type": "code",
      "metadata": {
        "id": "bitzHo5_UbXy"
      },
      "source": [
        "def compute_avg_return(environment, policy, num_episodes=3):\n",
        "\n",
        "  total_return = 0.0\n",
        "  for _ in range(num_episodes):\n",
        "\n",
        "    time_step = environment.reset()\n",
        "    episode_return = 0.0\n",
        "\n",
        "    while not time_step.is_last():\n",
        "      action_step = policy.action(time_step)\n",
        "      time_step = environment.step(action_step.action)\n",
        "      episode_return += time_step.reward\n",
        "    total_return += episode_return\n",
        "\n",
        "  avg_return = total_return / num_episodes\n",
        "  return avg_return.numpy()[0]\n",
        "# See also the metrics module for standard implementations of different metrics.\n",
        "# https://github.com/tensorflow/agents/tree/master/tf_agents/metrics\n"
      ],
      "execution_count": 10,
      "outputs": []
    },
    {
      "cell_type": "markdown",
      "metadata": {
        "id": "_snCVvq5Z8lJ"
      },
      "source": [
        "Running this computation on the `random_policy` shows a baseline performance in the environment."
      ]
    },
    {
      "cell_type": "code",
      "metadata": {
        "id": "K0jLQUsKk-yz",
        "colab": {
          "base_uri": "https://localhost:8080/"
        },
        "outputId": "a0f123e2-e1b2-4550-88b9-1b8d8ffcf5a4"
      },
      "source": [
        "compute_avg_return(eval_env, random_policy, num_eval_episodes)"
      ],
      "execution_count": 11,
      "outputs": [
        {
          "output_type": "execute_result",
          "data": {
            "text/plain": [
              "-600.0"
            ]
          },
          "metadata": {},
          "execution_count": 11
        }
      ]
    },
    {
      "cell_type": "markdown",
      "metadata": {
        "id": "NLva6g2jdWgr"
      },
      "source": [
        "## Replay Buffer\n",
        "\n",
        "The replay buffer keeps track of data collected from the environment. This tutorial uses `tf_agents.replay_buffers.tf_uniform_replay_buffer.TFUniformReplayBuffer`, as it is the most common. \n",
        "\n",
        "The constructor requires the specs for the data it will be collecting. This is available from the agent using the `collect_data_spec` method. The batch size and maximum buffer length are also required.\n"
      ]
    },
    {
      "cell_type": "code",
      "metadata": {
        "id": "vX2zGUWJGWAl"
      },
      "source": [
        "replay_buffer = tf_uniform_replay_buffer.TFUniformReplayBuffer(\n",
        "    data_spec=agent.collect_data_spec,\n",
        "    batch_size=train_env.batch_size,\n",
        "    max_length=replay_buffer_max_length)"
      ],
      "execution_count": 12,
      "outputs": []
    },
    {
      "cell_type": "markdown",
      "metadata": {
        "id": "rVD5nQ9ZGo8_"
      },
      "source": [
        "## Data Collection\n",
        "\n",
        "Now execute the random policy in the environment for a few steps, recording the data in the replay buffer."
      ]
    },
    {
      "cell_type": "code",
      "metadata": {
        "id": "wr1KSAEGG4h9"
      },
      "source": [
        "def collect_step(environment, policy, buffer):\n",
        "  time_step = environment.current_time_step()\n",
        "  action_step = policy.action(time_step)\n",
        "  next_time_step = environment.step(action_step.action)\n",
        "  traj = trajectory.from_transition(time_step, action_step, next_time_step)\n",
        "  # print(traj)\n",
        "  # Add trajectory to the replay buffer\n",
        "  buffer.add_batch(traj)\n",
        "\n",
        "def collect_data(env, policy, buffer, steps):\n",
        "  for _ in range(steps):\n",
        "    collect_step(env, policy, buffer)\n",
        "\n",
        "collect_data(train_env, random_policy, replay_buffer, steps=100)"
      ],
      "execution_count": 13,
      "outputs": []
    },
    {
      "cell_type": "markdown",
      "metadata": {
        "id": "84z5pQJdoKxo"
      },
      "source": [
        "The replay buffer is now a collection of Trajectories."
      ]
    },
    {
      "cell_type": "markdown",
      "metadata": {
        "id": "TujU-PMUsKjS"
      },
      "source": [
        "The agent needs access to the replay buffer. This is provided by creating an iterable `tf.data.Dataset` pipeline which will feed data to the agent.\n",
        "\n",
        "Each row of the replay buffer only stores a single observation step. But since the DQN Agent needs both the current and next observation to compute the loss, the dataset pipeline will sample two adjacent rows for each item in the batch (`num_steps=2`).\n",
        "\n",
        "This dataset is also optimized by running parallel calls and prefetching data."
      ]
    },
    {
      "cell_type": "code",
      "metadata": {
        "id": "ba7bilizt_qW",
        "colab": {
          "base_uri": "https://localhost:8080/"
        },
        "outputId": "6bf440d2-5b8f-4341-d69f-7146caae3d6f"
      },
      "source": [
        "# Dataset generates trajectories with shape [Bx2x...]\n",
        "dataset = replay_buffer.as_dataset(\n",
        "    num_parallel_calls=3, \n",
        "    sample_batch_size=batch_size, \n",
        "    num_steps=2).prefetch(3)\n",
        "\n",
        "iterator = iter(dataset)"
      ],
      "execution_count": 14,
      "outputs": [
        {
          "output_type": "stream",
          "name": "stdout",
          "text": [
            "WARNING:tensorflow:From /usr/local/lib/python3.7/dist-packages/tensorflow/python/autograph/impl/api.py:383: ReplayBuffer.get_next (from tf_agents.replay_buffers.replay_buffer) is deprecated and will be removed in a future version.\n",
            "Instructions for updating:\n",
            "Use `as_dataset(..., single_deterministic_pass=False) instead.\n"
          ]
        }
      ]
    },
    {
      "cell_type": "code",
      "metadata": {
        "id": "cYZTYyUpm-sx",
        "colab": {
          "base_uri": "https://localhost:8080/"
        },
        "outputId": "f8d46a86-1d9d-4c0e-f5af-271d777b9d6a"
      },
      "source": [
        "print(dataset)\n",
        "# print(iterator.next())"
      ],
      "execution_count": 15,
      "outputs": [
        {
          "output_type": "stream",
          "name": "stdout",
          "text": [
            "<PrefetchDataset shapes: (Trajectory(\n",
            "{action: (64, 2),\n",
            " discount: (64, 2),\n",
            " next_step_type: (64, 2),\n",
            " observation: (64, 2, 2),\n",
            " policy_info: (),\n",
            " reward: (64, 2),\n",
            " step_type: (64, 2)}), BufferInfo(ids=(64, 2), probabilities=(64,))), types: (Trajectory(\n",
            "{action: tf.int64,\n",
            " discount: tf.float32,\n",
            " next_step_type: tf.int32,\n",
            " observation: tf.float32,\n",
            " policy_info: (),\n",
            " reward: tf.float32,\n",
            " step_type: tf.int32}), BufferInfo(ids=tf.int64, probabilities=tf.float32))>\n"
          ]
        }
      ]
    },
    {
      "cell_type": "markdown",
      "metadata": {
        "id": "hBc9lj9VWWtZ"
      },
      "source": [
        "## Training the agent\n",
        "\n",
        "Two things must happen during the training loop:\n",
        "\n",
        "-   collect data from the environment\n",
        "-   use that data to train the agent's neural network(s)\n",
        "\n",
        "This example also periodicially evaluates the policy and prints the current score.\n",
        "\n",
        "The following will take ~5 minutes to run."
      ]
    },
    {
      "cell_type": "code",
      "metadata": {
        "id": "0pTbJ3PeyF-u",
        "colab": {
          "base_uri": "https://localhost:8080/"
        },
        "outputId": "20ceb8ce-f98a-4fb4-d86c-2825a6e828ef"
      },
      "source": [
        "try:\n",
        "  %%time\n",
        "except:\n",
        "  pass\n",
        "\n",
        "# (Optional) Optimize by wrapping some of the code in a graph using TF function.\n",
        "agent.train = common.function(agent.train)\n",
        "\n",
        "# Reset the train step\n",
        "agent.train_step_counter.assign(0)\n",
        "\n",
        "# Evaluate the agent's policy once before training.\n",
        "avg_return = compute_avg_return(eval_env, agent.policy, num_eval_episodes)\n",
        "returns = [avg_return]\n",
        "\n",
        "for _ in range(num_iterations):\n",
        "\n",
        "  # Collect a few steps using collect_policy and save to the replay buffer.\n",
        "  for _ in range(collect_steps_per_iteration):\n",
        "    collect_step(train_env, agent.collect_policy, replay_buffer)\n",
        "\n",
        "  # Sample a batch of data from the buffer and update the agent's network.\n",
        "  experience, unused_info = next(iterator)\n",
        "  train_loss = agent.train(experience).loss\n",
        "\n",
        "  step = agent.train_step_counter.numpy()\n",
        "\n",
        "  if step % log_interval == 0:\n",
        "    print('step = {0}: loss = {1}'.format(step, train_loss))\n",
        "\n",
        "  if step % (eval_interval*5) == 0:\n",
        "    avg_return = compute_avg_return(eval_env, agent.policy, num_eval_episodes)\n",
        "    print('step = {0}: Average Return = {1}'.format(step, avg_return))\n",
        "    returns.append(avg_return)"
      ],
      "execution_count": 16,
      "outputs": [
        {
          "output_type": "stream",
          "name": "stdout",
          "text": [
            "CPU times: user 3 µs, sys: 1e+03 ns, total: 4 µs\n",
            "Wall time: 6.2 µs\n",
            "WARNING:tensorflow:From /usr/local/lib/python3.7/dist-packages/tensorflow/python/util/dispatch.py:1096: calling foldr_v2 (from tensorflow.python.ops.functional_ops) with back_prop=False is deprecated and will be removed in a future version.\n",
            "Instructions for updating:\n",
            "back_prop=False is deprecated. Consider using tf.stop_gradient instead.\n",
            "Instead of:\n",
            "results = tf.foldr(fn, elems, back_prop=False)\n",
            "Use:\n",
            "results = tf.nest.map_structure(tf.stop_gradient, tf.foldr(fn, elems))\n",
            "step = 200: loss = 3.1657962799072266\n",
            "step = 400: loss = 1.2820203304290771\n",
            "step = 600: loss = 0.6606796383857727\n",
            "step = 800: loss = 0.13789714872837067\n",
            "step = 1000: loss = 0.040672674775123596\n",
            "step = 1200: loss = 0.036583319306373596\n",
            "step = 1400: loss = 0.034651946276426315\n",
            "step = 1600: loss = 0.011468218639492989\n",
            "step = 1800: loss = 0.025089118629693985\n",
            "step = 2000: loss = 0.022879954427480698\n",
            "step = 2200: loss = 0.1820971965789795\n",
            "step = 2400: loss = 0.13490578532218933\n",
            "step = 2600: loss = 0.09015894681215286\n",
            "step = 2800: loss = 0.3506236672401428\n",
            "step = 3000: loss = 0.1303897500038147\n",
            "step = 3200: loss = 0.28313198685646057\n",
            "step = 3400: loss = 0.17698371410369873\n",
            "step = 3600: loss = 0.08808082342147827\n",
            "step = 3800: loss = 0.33520737290382385\n",
            "step = 4000: loss = 0.3513807952404022\n",
            "step = 4200: loss = 0.2983774244785309\n",
            "step = 4400: loss = 0.43887338042259216\n",
            "step = 4600: loss = 0.11528860032558441\n",
            "step = 4800: loss = 0.20585225522518158\n",
            "step = 5000: loss = 0.26493850350379944\n",
            "step = 5000: Average Return = -600.0\n",
            "step = 5200: loss = 0.2925887107849121\n",
            "step = 5400: loss = 10.875031471252441\n",
            "step = 5600: loss = 0.42831310629844666\n",
            "step = 5800: loss = 0.2499603033065796\n",
            "step = 6000: loss = 0.25650373101234436\n",
            "step = 6200: loss = 0.13252557814121246\n",
            "step = 6400: loss = 0.13555249571800232\n",
            "step = 6600: loss = 0.04609941691160202\n",
            "step = 6800: loss = 0.045229472219944\n",
            "step = 7000: loss = 0.1582615077495575\n",
            "step = 7200: loss = 0.23683398962020874\n",
            "step = 7400: loss = 0.2227030098438263\n",
            "step = 7600: loss = 0.21194466948509216\n",
            "step = 7800: loss = 0.44173258543014526\n",
            "step = 8000: loss = 0.5728042125701904\n",
            "step = 8200: loss = 0.3617052435874939\n",
            "step = 8400: loss = 0.2939833402633667\n",
            "step = 8600: loss = 0.5414798259735107\n",
            "step = 8800: loss = 1.3879848718643188\n",
            "step = 9000: loss = 1.012387752532959\n",
            "step = 9200: loss = 2.377147674560547\n",
            "step = 9400: loss = 0.6307207345962524\n",
            "step = 9600: loss = 6.699378490447998\n",
            "step = 9800: loss = 0.7206716537475586\n",
            "step = 10000: loss = 0.7042524814605713\n",
            "step = 10000: Average Return = -160.6666717529297\n",
            "step = 10200: loss = 0.6110791563987732\n",
            "step = 10400: loss = 0.4999401569366455\n",
            "step = 10600: loss = 0.22421061992645264\n",
            "step = 10800: loss = 0.30334797501564026\n",
            "step = 11000: loss = 0.7880833148956299\n",
            "step = 11200: loss = 0.5896288156509399\n",
            "step = 11400: loss = 1.1523280143737793\n",
            "step = 11600: loss = 0.5066894888877869\n",
            "step = 11800: loss = 0.8709973096847534\n",
            "step = 12000: loss = 0.2628542482852936\n",
            "step = 12200: loss = 0.7905292510986328\n",
            "step = 12400: loss = 1.8792839050292969\n",
            "step = 12600: loss = 2.3142213821411133\n",
            "step = 12800: loss = 0.5722982883453369\n",
            "step = 13000: loss = 0.926740288734436\n",
            "step = 13200: loss = 0.5115311145782471\n",
            "step = 13400: loss = 0.26725488901138306\n",
            "step = 13600: loss = 0.4762343764305115\n",
            "step = 13800: loss = 0.459659218788147\n",
            "step = 14000: loss = 0.46198296546936035\n",
            "step = 14200: loss = 0.7824766635894775\n",
            "step = 14400: loss = 0.4070509672164917\n",
            "step = 14600: loss = 1.0780694484710693\n",
            "step = 14800: loss = 1.3173608779907227\n",
            "step = 15000: loss = 0.8779194951057434\n",
            "step = 15000: Average Return = -119.33333587646484\n",
            "step = 15200: loss = 0.6331130862236023\n",
            "step = 15400: loss = 1.9713789224624634\n",
            "step = 15600: loss = 0.4895752966403961\n",
            "step = 15800: loss = 0.4343998432159424\n",
            "step = 16000: loss = 0.4230002760887146\n",
            "step = 16200: loss = 0.34161311388015747\n",
            "step = 16400: loss = 0.5821248888969421\n",
            "step = 16600: loss = 0.9579634666442871\n",
            "step = 16800: loss = 0.37367790937423706\n",
            "step = 17000: loss = 0.3234555125236511\n",
            "step = 17200: loss = 0.5145642161369324\n",
            "step = 17400: loss = 0.40760374069213867\n",
            "step = 17600: loss = 0.46213504672050476\n",
            "step = 17800: loss = 0.2899548411369324\n",
            "step = 18000: loss = 0.4716712236404419\n",
            "step = 18200: loss = 0.5219289064407349\n",
            "step = 18400: loss = 10.334022521972656\n",
            "step = 18600: loss = 0.2573721706867218\n",
            "step = 18800: loss = 0.35031574964523315\n",
            "step = 19000: loss = 0.4186282157897949\n",
            "step = 19200: loss = 0.4715082049369812\n",
            "step = 19400: loss = 0.4958900809288025\n",
            "step = 19600: loss = 1.115546464920044\n",
            "step = 19800: loss = 0.8228345513343811\n",
            "step = 20000: loss = 0.4900628924369812\n",
            "step = 20000: Average Return = -155.0\n"
          ]
        }
      ]
    },
    {
      "cell_type": "markdown",
      "metadata": {
        "id": "68jNcA_TiJDq"
      },
      "source": [
        "## Visualization\n"
      ]
    },
    {
      "cell_type": "code",
      "metadata": {
        "id": "NxtL1mbOYCVO",
        "colab": {
          "base_uri": "https://localhost:8080/",
          "height": 298
        },
        "outputId": "7c52f665-c001-4204-b227-4f24e3f26262"
      },
      "source": [
        "iterations = range(0, num_iterations + 1, eval_interval*5)\n",
        "plt.plot(iterations, returns)\n",
        "plt.ylabel('Average Return')\n",
        "plt.xlabel('Iterations')\n",
        "# plt.ylim(top=550)"
      ],
      "execution_count": 17,
      "outputs": [
        {
          "output_type": "execute_result",
          "data": {
            "text/plain": [
              "Text(0.5, 0, 'Iterations')"
            ]
          },
          "metadata": {},
          "execution_count": 17
        },
        {
          "output_type": "display_data",
          "data": {
            "image/png": "[encoded data removed]",
            "text/plain": [
              "<Figure size 432x288 with 1 Axes>"
            ]
          },
          "metadata": {
            "needs_background": "light"
          }
        }
      ]
    },
    {
      "cell_type": "markdown",
      "metadata": {
        "id": "9pGfGxSH32gn"
      },
      "source": [
        "Charts are nice. But more exciting is seeing an agent actually performing a task in an environment. \n",
        "\n",
        "First, create a function to embed videos in the notebook."
      ]
    },
    {
      "cell_type": "code",
      "metadata": {
        "id": "ULaGr8pvOKbl"
      },
      "source": [
        "def embed_mp4(filename):\n",
        "  \"\"\"Embeds an mp4 file in the notebook.\"\"\"\n",
        "  video = open(filename,'rb').read()\n",
        "  b64 = base64.b64encode(video)\n",
        "  tag = '''\n",
        "  <video width=\"640\" height=\"480\" controls>\n",
        "    <source src=\"data:video/mp4;base64,{0}\" type=\"video/mp4\">\n",
        "  Your browser does not support the video tag.\n",
        "  </video>'''.format(b64.decode())\n",
        "\n",
        "  return IPython.display.HTML(tag)\n",
        "\n",
        "def create_policy_eval_video(policy, filename, num_episodes=1, fps=30):\n",
        "  filename = filename + \".mp4\"\n",
        "  with imageio.get_writer(filename, fps=fps) as video:\n",
        "    for _ in range(num_episodes):\n",
        "      time_step = eval_env.reset()\n",
        "      video.append_data(eval_py_env.render())\n",
        "      while not time_step.is_last():\n",
        "        action_step = policy.action(time_step)\n",
        "        time_step = eval_env.step(action_step.action)\n",
        "        video.append_data(eval_py_env.render())\n",
        "  return embed_mp4(filename)"
      ],
      "execution_count": 18,
      "outputs": []
    },
    {
      "cell_type": "code",
      "metadata": {
        "id": "Vk2DAVkS14Ld",
        "colab": {
          "base_uri": "https://localhost:8080/",
          "height": 538
        },
        "outputId": "2758062b-980b-4c7e-e400-466d67e4b82e"
      },
      "source": [
        "create_policy_eval_video(agent.policy, \"trained-agent\")"
      ],
      "execution_count": 20,
      "outputs": [
        {
          "output_type": "stream",
          "name": "stderr",
          "text": [
            "WARNING:root:IMAGEIO FFMPEG_WRITER WARNING: input image is not divisible by macro_block_size=16, resizing from (400, 600) to (400, 608) to ensure video compatibility with most codecs and players. To prevent resizing, make your input image divisible by the macro_block_size or set the macro_block_size to None (risking incompatibility). You may also see a FFMPEG warning concerning speedloss due to data not being aligned.\n"
          ]
        },
        {
          "output_type": "execute_result",
          "data": {
            "text/html": [
              "\n",
              "  <video width=\"640\" height=\"480\" controls>\n",
              "    <source src=\"data:video/mp4;base64,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\" type=\"video/mp4\">\n",
              "  Your browser does not support the video tag.\n",
              "  </video>"
            ],
            "text/plain": [
              "<IPython.core.display.HTML object>"
            ]
          },
          "metadata": {},
          "execution_count": 20
        }
      ]
    }
  ]
}