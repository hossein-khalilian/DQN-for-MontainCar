{
  "nbformat": 4,
  "nbformat_minor": 0,
  "metadata": {
    "colab": {
      "name": "DQN for MountainCar.ipynb",
      "provenance": [],
      "collapsed_sections": [],
      "include_colab_link": true
    },
    "kernelspec": {
      "name": "python3",
      "display_name": "Python 3"
    },
    "pycharm": {
      "stem_cell": {
        "cell_type": "raw",
        "metadata": {
          "collapsed": false
        },
        "source": []
      }
    }
  },
  "cells": [
    {
      "cell_type": "markdown",
      "metadata": {
        "id": "view-in-github",
        "colab_type": "text"
      },
      "source": [
        "<a href=\"https://colab.research.google.com/github/hossein-khalilian/DQN-for-MontainCar/blob/main/DQN_for_MountainCar.ipynb\" target=\"_parent\"><img src=\"https://colab.research.google.com/assets/colab-badge.svg\" alt=\"Open In Colab\"/></a>"
      ]
    },
    {
      "cell_type": "markdown",
      "metadata": {
        "id": "DRlNqFbwI0N2"
      },
      "source": [
        "# Setup"
      ]
    },
    {
      "cell_type": "code",
      "metadata": {
        "id": "KEHR2Ui-lo8O",
        "colab": {
          "base_uri": "https://localhost:8080/",
          "height": 975
        },
        "outputId": "fe349eea-b4b0-4918-b481-07108a69b959"
      },
      "source": [
        "!pip install PILLOW\n",
        "!pip install tf-agents\n",
        "!pip install pyvirtualdisplay\n",
        "!sudo apt-get install -y xvfb ffmpeg\n",
        "\n",
        "# !pip install 'gym==0.10.11'\n",
        "# !pip install 'pyglet==1.3.2'\n",
        "# !pip install 'imageio==2.4.0'\n",
        "# !pip install --upgrade tensorflow-probability"
      ],
      "execution_count": null,
      "outputs": [
        {
          "output_type": "stream",
          "text": [
            "Requirement already satisfied: PILLOW in /usr/local/lib/python3.6/dist-packages (7.0.0)\n",
            "Collecting tf-agents\n",
            "\u001b[?25l  Downloading https://files.pythonhosted.org/packages/ef/b0/88c9aab39050cfb544ec73ee48b8d0e67b4b16ed5470c82235255b119952/tf_agents-0.5.0-py3-none-any.whl (933kB)\n",
            "\u001b[K     |████████████████████████████████| 942kB 4.0MB/s \n",
            "\u001b[?25hRequirement already satisfied: tensorflow-probability>=0.9.0 in /usr/local/lib/python3.6/dist-packages (from tf-agents) (0.10.0)\n",
            "Requirement already satisfied: absl-py>=0.6.1 in /usr/local/lib/python3.6/dist-packages (from tf-agents) (0.9.0)\n",
            "Collecting gin-config==0.1.3\n",
            "\u001b[?25l  Downloading https://files.pythonhosted.org/packages/8c/be/c984b1c8a7ba1c385b32bf39c7a225cd9f713d49705898309d01b60fd0e7/gin_config-0.1.3-py3-none-any.whl (43kB)\n",
            "\u001b[K     |████████████████████████████████| 51kB 5.8MB/s \n",
            "\u001b[?25hRequirement already satisfied: numpy>=1.13.3 in /usr/local/lib/python3.6/dist-packages (from tf-agents) (1.18.5)\n",
            "Requirement already satisfied: six>=1.10.0 in /usr/local/lib/python3.6/dist-packages (from tf-agents) (1.15.0)\n",
            "Requirement already satisfied: protobuf>=3.11.3 in /usr/local/lib/python3.6/dist-packages (from tf-agents) (3.12.2)\n",
            "Requirement already satisfied: gast>=0.3.2 in /usr/local/lib/python3.6/dist-packages (from tensorflow-probability>=0.9.0->tf-agents) (0.3.3)\n",
            "Requirement already satisfied: decorator in /usr/local/lib/python3.6/dist-packages (from tensorflow-probability>=0.9.0->tf-agents) (4.4.2)\n",
            "Requirement already satisfied: cloudpickle>=1.2.2 in /usr/local/lib/python3.6/dist-packages (from tensorflow-probability>=0.9.0->tf-agents) (1.3.0)\n",
            "Requirement already satisfied: setuptools in /usr/local/lib/python3.6/dist-packages (from protobuf>=3.11.3->tf-agents) (49.1.0)\n",
            "Installing collected packages: gin-config, tf-agents\n",
            "  Found existing installation: gin-config 0.3.0\n",
            "    Uninstalling gin-config-0.3.0:\n",
            "      Successfully uninstalled gin-config-0.3.0\n",
            "Successfully installed gin-config-0.1.3 tf-agents-0.5.0\n",
            "Collecting pyvirtualdisplay\n",
            "  Downloading https://files.pythonhosted.org/packages/d0/8a/643043cc70791367bee2d19eb20e00ed1a246ac48e5dbe57bbbcc8be40a9/PyVirtualDisplay-1.3.2-py2.py3-none-any.whl\n",
            "Collecting EasyProcess\n",
            "  Downloading https://files.pythonhosted.org/packages/48/3c/75573613641c90c6d094059ac28adb748560d99bd27ee6f80cce398f404e/EasyProcess-0.3-py2.py3-none-any.whl\n",
            "Installing collected packages: EasyProcess, pyvirtualdisplay\n",
            "Successfully installed EasyProcess-0.3 pyvirtualdisplay-1.3.2\n",
            "Reading package lists... Done\n",
            "Building dependency tree       \n",
            "Reading state information... Done\n",
            "ffmpeg is already the newest version (7:3.4.6-0ubuntu0.18.04.1).\n",
            "The following package was automatically installed and is no longer required:\n",
            "  libnvidia-common-440\n",
            "Use 'sudo apt autoremove' to remove it.\n",
            "The following NEW packages will be installed:\n",
            "  xvfb\n",
            "0 upgraded, 1 newly installed, 0 to remove and 35 not upgraded.\n",
            "Need to get 784 kB of archives.\n",
            "After this operation, 2,266 kB of additional disk space will be used.\n",
            "Get:1 http://archive.ubuntu.com/ubuntu bionic-updates/universe amd64 xvfb amd64 2:1.19.6-1ubuntu4.4 [784 kB]\n",
            "Fetched 784 kB in 1s (614 kB/s)\n",
            "debconf: unable to initialize frontend: Dialog\n",
            "debconf: (No usable dialog-like program is installed, so the dialog based frontend cannot be used. at /usr/share/perl5/Debconf/FrontEnd/Dialog.pm line 76, <> line 1.)\n",
            "debconf: falling back to frontend: Readline\n",
            "debconf: unable to initialize frontend: Readline\n",
            "debconf: (This frontend requires a controlling tty.)\n",
            "debconf: falling back to frontend: Teletype\n",
            "dpkg-preconfigure: unable to re-open stdin: \n",
            "Selecting previously unselected package xvfb.\n",
            "(Reading database ... 144465 files and directories currently installed.)\n",
            "Preparing to unpack .../xvfb_2%3a1.19.6-1ubuntu4.4_amd64.deb ...\n",
            "Unpacking xvfb (2:1.19.6-1ubuntu4.4) ...\n",
            "Setting up xvfb (2:1.19.6-1ubuntu4.4) ...\n",
            "Processing triggers for man-db (2.8.3-2ubuntu0.1) ...\n"
          ],
          "name": "stdout"
        }
      ]
    },
    {
      "cell_type": "code",
      "metadata": {
        "id": "sMitx5qSgJk1"
      },
      "source": [
        "from __future__ import absolute_import, division, print_function\n",
        "\n",
        "import base64\n",
        "import imageio\n",
        "import IPython\n",
        "import PIL.Image\n",
        "import matplotlib\n",
        "import numpy as np\n",
        "import tensorflow as tf\n",
        "import pyvirtualdisplay\n",
        "import matplotlib.pyplot as plt\n",
        "\n",
        "from tf_agents.utils import common\n",
        "from tf_agents.eval import metric_utils\n",
        "from tf_agents.networks import q_network\n",
        "from tf_agents.metrics import tf_metrics\n",
        "from tf_agents.agents.dqn import dqn_agent\n",
        "from tf_agents.environments import suite_gym\n",
        "from tf_agents.trajectories import trajectory\n",
        "from tf_agents.policies import random_tf_policy\n",
        "from tf_agents.drivers import dynamic_step_driver\n",
        "from tf_agents.environments import tf_py_environment\n",
        "from tf_agents.replay_buffers import tf_uniform_replay_buffer"
      ],
      "execution_count": null,
      "outputs": []
    },
    {
      "cell_type": "code",
      "metadata": {
        "id": "J6HsdS5GbSjd"
      },
      "source": [
        "tf.compat.v1.enable_v2_behavior()\n",
        "display = pyvirtualdisplay.Display(visible=0, size=(1400, 900)).start()"
      ],
      "execution_count": null,
      "outputs": []
    },
    {
      "cell_type": "markdown",
      "metadata": {
        "id": "LmC0NDhdLIKY"
      },
      "source": [
        "## Hyperparameters"
      ]
    },
    {
      "cell_type": "code",
      "metadata": {
        "id": "HC1kNrOsLSIZ"
      },
      "source": [
        "num_iterations = 20000 # @param {type:\"integer\"}\n",
        "\n",
        "initial_collect_steps = 1000  # @param {type:\"integer\"} \n",
        "collect_steps_per_iteration = 1  # @param {type:\"integer\"}\n",
        "replay_buffer_max_length = 100000  # @param {type:\"integer\"}\n",
        "\n",
        "batch_size = 64  # @param {type:\"integer\"}\n",
        "learning_rate = 1e-3  # @param {type:\"number\"}\n",
        "log_interval = 200  # @param {type:\"integer\"}\n",
        "\n",
        "num_eval_episodes = 3  # @param {type:\"integer\"}\n",
        "eval_interval = 1000  # @param {type:\"integer\"}"
      ],
      "execution_count": null,
      "outputs": []
    },
    {
      "cell_type": "code",
      "metadata": {
        "id": "pYEz-S9gEv2-",
        "colab": {
          "base_uri": "https://localhost:8080/",
          "height": 121
        },
        "outputId": "b08c9227-463b-4527-ea07-9fb8917709d3"
      },
      "source": [
        "env_name = 'MountainCar-v0'\n",
        "env = suite_gym.load(env_name, discount=0.9)\n",
        "print('Observation Spec:')\n",
        "print(env.time_step_spec().observation)\n",
        "print('Reward Spec:')\n",
        "print(env.time_step_spec().reward)\n",
        "print('Action Spec:')\n",
        "print(env.action_spec())"
      ],
      "execution_count": null,
      "outputs": [
        {
          "output_type": "stream",
          "text": [
            "Observation Spec:\n",
            "BoundedArraySpec(shape=(2,), dtype=dtype('float32'), name='observation', minimum=[-1.2  -0.07], maximum=[0.6  0.07])\n",
            "Reward Spec:\n",
            "ArraySpec(shape=(), dtype=dtype('float32'), name='reward')\n",
            "Action Spec:\n",
            "BoundedArraySpec(shape=(), dtype=dtype('int64'), name='action', minimum=0, maximum=2)\n"
          ],
          "name": "stdout"
        }
      ]
    },
    {
      "cell_type": "code",
      "metadata": {
        "id": "N7brXNIGWXjC"
      },
      "source": [
        "train_py_env = suite_gym.load(env_name, discount=0.99, max_episode_steps=600)\n",
        "eval_py_env = suite_gym.load(env_name, discount=0.99, max_episode_steps=600)\n",
        "\n",
        "train_env = tf_py_environment.TFPyEnvironment(train_py_env)\n",
        "eval_env = tf_py_environment.TFPyEnvironment(eval_py_env)"
      ],
      "execution_count": null,
      "outputs": []
    },
    {
      "cell_type": "markdown",
      "metadata": {
        "id": "E9lW_OZYFR8A"
      },
      "source": [
        "## Agent\n",
        "\n",
        "The DDQN agent can be used in any environment which has a discrete action space.\n",
        "\n",
        "At the heart of a DQN Agent is a `QNetwork`, a neural network model that can learn to predict `QValues` (expected returns) for all actions, given an observation from the environment.\n",
        "\n",
        "Use `tf_agents.networks.q_network` to create a `QNetwork`, passing in the `observation_spec`, `action_spec`, and a tuple describing the number and size of the model's hidden layers.\n"
      ]
    },
    {
      "cell_type": "code",
      "metadata": {
        "id": "TgkdEPg_muzV"
      },
      "source": [
        "fc_layer_params = (64, 128,)\n",
        "\n",
        "q_net = q_network.QNetwork(\n",
        "    train_env.observation_spec(),\n",
        "    train_env.action_spec(),\n",
        "    fc_layer_params=fc_layer_params)"
      ],
      "execution_count": null,
      "outputs": []
    },
    {
      "cell_type": "markdown",
      "metadata": {
        "id": "z62u55hSmviJ"
      },
      "source": [
        "Now use `tf_agents.agents.dqn.Ddqn_agent` to instantiate a `DdqnAgent`. In addition to the `time_step_spec`, `action_spec` and the QNetwork, the agent constructor also requires an optimizer (in this case, `AdamOptimizer`), a loss function, and an integer step counter."
      ]
    },
    {
      "cell_type": "code",
      "metadata": {
        "id": "jbY4yrjTEyc9"
      },
      "source": [
        "optimizer = tf.compat.v1.train.AdamOptimizer(learning_rate=learning_rate)\n",
        "\n",
        "train_step_counter = tf.Variable(0)\n",
        "\n",
        "agent = dqn_agent.DdqnAgent(\n",
        "    train_env.time_step_spec(),\n",
        "    train_env.action_spec(),\n",
        "    q_network=q_net,\n",
        "    optimizer=optimizer,\n",
        "    td_errors_loss_fn=common.element_wise_squared_loss,\n",
        "    train_step_counter=train_step_counter)\n",
        "\n",
        "agent.initialize()"
      ],
      "execution_count": null,
      "outputs": []
    },
    {
      "cell_type": "markdown",
      "metadata": {
        "id": "I0KLrEPwkn5x"
      },
      "source": [
        "## Policies\n",
        "\n",
        "A policy defines the way an agent acts in an environment. Typically, the goal of reinforcement learning is to train the underlying model until the policy produces the desired outcome.\n",
        "\n",
        "Agents contain two policies: \n",
        "\n",
        "-   `agent.policy` — The main policy that is used for evaluation and deployment.\n",
        "-   `agent.collect_policy` — A second policy that is used for data collection.\n",
        "\n",
        "Policies can be created independently of agents. For example, use `tf_agents.policies.random_tf_policy` to create a policy which will randomly select an action for each `time_step`.\n"
      ]
    },
    {
      "cell_type": "code",
      "metadata": {
        "id": "BwY7StuMkuV4"
      },
      "source": [
        "eval_policy = agent.policy\n",
        "collect_policy = agent.collect_policy\n",
        "\n",
        "random_policy = random_tf_policy.RandomTFPolicy(train_env.time_step_spec(), train_env.action_spec())"
      ],
      "execution_count": null,
      "outputs": []
    },
    {
      "cell_type": "markdown",
      "metadata": {
        "id": "94rCXQtbUbXv"
      },
      "source": [
        "## Metrics and Evaluation\n",
        "\n",
        "The most common metric used to evaluate a policy is the average return. The return is the sum of rewards obtained while running a policy in an environment for an episode. Several episodes are run, creating an average return.\n",
        "\n",
        "The following function computes the average return of a policy, given the policy, environment, and a number of episodes.\n"
      ]
    },
    {
      "cell_type": "code",
      "metadata": {
        "id": "bitzHo5_UbXy"
      },
      "source": [
        "#@test {\"skip\": true}\n",
        "def compute_avg_return(environment, policy, num_episodes=3):\n",
        "\n",
        "  total_return = 0.0\n",
        "  for _ in range(num_episodes):\n",
        "\n",
        "    time_step = environment.reset()\n",
        "    episode_return = 0.0\n",
        "\n",
        "    while not time_step.is_last():\n",
        "      action_step = policy.action(time_step)\n",
        "      time_step = environment.step(action_step.action)\n",
        "      episode_return += time_step.reward\n",
        "    total_return += episode_return\n",
        "\n",
        "  avg_return = total_return / num_episodes\n",
        "  return avg_return.numpy()[0]\n",
        "# See also the metrics module for standard implementations of different metrics.\n",
        "# https://github.com/tensorflow/agents/tree/master/tf_agents/metrics\n"
      ],
      "execution_count": null,
      "outputs": []
    },
    {
      "cell_type": "markdown",
      "metadata": {
        "id": "_snCVvq5Z8lJ"
      },
      "source": [
        "Running this computation on the `random_policy` shows a baseline performance in the environment."
      ]
    },
    {
      "cell_type": "code",
      "metadata": {
        "id": "K0jLQUsKk-yz",
        "colab": {
          "base_uri": "https://localhost:8080/",
          "height": 34
        },
        "outputId": "1ed53ac2-119e-419a-a3c1-6f9881e030d5"
      },
      "source": [
        "compute_avg_return(eval_env, random_policy, num_eval_episodes)"
      ],
      "execution_count": null,
      "outputs": [
        {
          "output_type": "execute_result",
          "data": {
            "text/plain": [
              "-600.0"
            ]
          },
          "metadata": {
            "tags": []
          },
          "execution_count": 11
        }
      ]
    },
    {
      "cell_type": "markdown",
      "metadata": {
        "id": "NLva6g2jdWgr"
      },
      "source": [
        "## Replay Buffer\n",
        "\n",
        "The replay buffer keeps track of data collected from the environment. This tutorial uses `tf_agents.replay_buffers.tf_uniform_replay_buffer.TFUniformReplayBuffer`, as it is the most common. \n",
        "\n",
        "The constructor requires the specs for the data it will be collecting. This is available from the agent using the `collect_data_spec` method. The batch size and maximum buffer length are also required.\n"
      ]
    },
    {
      "cell_type": "code",
      "metadata": {
        "id": "vX2zGUWJGWAl"
      },
      "source": [
        "replay_buffer = tf_uniform_replay_buffer.TFUniformReplayBuffer(\n",
        "    data_spec=agent.collect_data_spec,\n",
        "    batch_size=train_env.batch_size,\n",
        "    max_length=replay_buffer_max_length)"
      ],
      "execution_count": null,
      "outputs": []
    },
    {
      "cell_type": "markdown",
      "metadata": {
        "id": "rVD5nQ9ZGo8_"
      },
      "source": [
        "## Data Collection\n",
        "\n",
        "Now execute the random policy in the environment for a few steps, recording the data in the replay buffer."
      ]
    },
    {
      "cell_type": "code",
      "metadata": {
        "id": "wr1KSAEGG4h9"
      },
      "source": [
        "#@test {\"skip\": true}\n",
        "def collect_step(environment, policy, buffer):\n",
        "  time_step = environment.current_time_step()\n",
        "  action_step = policy.action(time_step)\n",
        "  next_time_step = environment.step(action_step.action)\n",
        "  traj = trajectory.from_transition(time_step, action_step, next_time_step)\n",
        "  # print(traj)\n",
        "  # Add trajectory to the replay buffer\n",
        "  buffer.add_batch(traj)\n",
        "\n",
        "def collect_data(env, policy, buffer, steps):\n",
        "  for _ in range(steps):\n",
        "    collect_step(env, policy, buffer)\n",
        "\n",
        "collect_data(train_env, random_policy, replay_buffer, steps=100)"
      ],
      "execution_count": null,
      "outputs": []
    },
    {
      "cell_type": "markdown",
      "metadata": {
        "id": "84z5pQJdoKxo"
      },
      "source": [
        "The replay buffer is now a collection of Trajectories."
      ]
    },
    {
      "cell_type": "markdown",
      "metadata": {
        "id": "TujU-PMUsKjS"
      },
      "source": [
        "The agent needs access to the replay buffer. This is provided by creating an iterable `tf.data.Dataset` pipeline which will feed data to the agent.\n",
        "\n",
        "Each row of the replay buffer only stores a single observation step. But since the DQN Agent needs both the current and next observation to compute the loss, the dataset pipeline will sample two adjacent rows for each item in the batch (`num_steps=2`).\n",
        "\n",
        "This dataset is also optimized by running parallel calls and prefetching data."
      ]
    },
    {
      "cell_type": "code",
      "metadata": {
        "id": "ba7bilizt_qW"
      },
      "source": [
        "# Dataset generates trajectories with shape [Bx2x...]\n",
        "dataset = replay_buffer.as_dataset(\n",
        "    num_parallel_calls=3, \n",
        "    sample_batch_size=batch_size, \n",
        "    num_steps=2).prefetch(3)\n",
        "\n",
        "\n",
        "dataset\n",
        "iterator = iter(dataset)"
      ],
      "execution_count": null,
      "outputs": []
    },
    {
      "cell_type": "code",
      "metadata": {
        "id": "cYZTYyUpm-sx",
        "colab": {
          "base_uri": "https://localhost:8080/",
          "height": 54
        },
        "outputId": "5128dfa2-af36-486b-feea-cefd3ddcff04"
      },
      "source": [
        "print(dataset)\n",
        "# print(iterator.next())"
      ],
      "execution_count": null,
      "outputs": [
        {
          "output_type": "stream",
          "text": [
            "<PrefetchDataset shapes: (Trajectory(step_type=(64, 2), observation=(64, 2, 2), action=(64, 2), policy_info=(), next_step_type=(64, 2), reward=(64, 2), discount=(64, 2)), BufferInfo(ids=(64, 2), probabilities=(64,))), types: (Trajectory(step_type=tf.int32, observation=tf.float32, action=tf.int64, policy_info=(), next_step_type=tf.int32, reward=tf.float32, discount=tf.float32), BufferInfo(ids=tf.int64, probabilities=tf.float32))>\n"
          ],
          "name": "stdout"
        }
      ]
    },
    {
      "cell_type": "markdown",
      "metadata": {
        "id": "hBc9lj9VWWtZ"
      },
      "source": [
        "## Training the agent\n",
        "\n",
        "Two things must happen during the training loop:\n",
        "\n",
        "-   collect data from the environment\n",
        "-   use that data to train the agent's neural network(s)\n",
        "\n",
        "This example also periodicially evaluates the policy and prints the current score.\n",
        "\n",
        "The following will take ~5 minutes to run."
      ]
    },
    {
      "cell_type": "code",
      "metadata": {
        "id": "0pTbJ3PeyF-u",
        "colab": {
          "base_uri": "https://localhost:8080/",
          "height": 1000
        },
        "outputId": "005a762e-0efe-496e-d641-e3c192bfe065"
      },
      "source": [
        "try:\n",
        "  %%time\n",
        "except:\n",
        "  pass\n",
        "\n",
        "# (Optional) Optimize by wrapping some of the code in a graph using TF function.\n",
        "agent.train = common.function(agent.train)\n",
        "\n",
        "# Reset the train step\n",
        "agent.train_step_counter.assign(0)\n",
        "\n",
        "# Evaluate the agent's policy once before training.\n",
        "avg_return = compute_avg_return(eval_env, agent.policy, num_eval_episodes)\n",
        "returns = [avg_return]\n",
        "\n",
        "for _ in range(num_iterations):\n",
        "\n",
        "  # Collect a few steps using collect_policy and save to the replay buffer.\n",
        "  for _ in range(collect_steps_per_iteration):\n",
        "    collect_step(train_env, agent.collect_policy, replay_buffer)\n",
        "\n",
        "  # Sample a batch of data from the buffer and update the agent's network.\n",
        "  experience, unused_info = next(iterator)\n",
        "  train_loss = agent.train(experience).loss\n",
        "\n",
        "  step = agent.train_step_counter.numpy()\n",
        "\n",
        "  if step % log_interval == 0:\n",
        "    print('step = {0}: loss = {1}'.format(step, train_loss))\n",
        "\n",
        "  if step % (eval_interval*5) == 0:\n",
        "    avg_return = compute_avg_return(eval_env, agent.policy, num_eval_episodes)\n",
        "    print('step = {0}: Average Return = {1}'.format(step, avg_return))\n",
        "    returns.append(avg_return)"
      ],
      "execution_count": null,
      "outputs": [
        {
          "output_type": "stream",
          "text": [
            "CPU times: user 3 µs, sys: 0 ns, total: 3 µs\n",
            "Wall time: 5.25 µs\n",
            "step = 200: loss = 1.8913909196853638\n",
            "step = 400: loss = 1.931300163269043\n",
            "step = 600: loss = 58.10307693481445\n",
            "step = 800: loss = 0.37603625655174255\n",
            "step = 1000: loss = 0.3783310651779175\n",
            "step = 1200: loss = 0.5610213279724121\n",
            "step = 1400: loss = 0.8685139417648315\n",
            "step = 1600: loss = 0.9181647300720215\n",
            "step = 1800: loss = 2.4226739406585693\n",
            "step = 2000: loss = 1.8270372152328491\n",
            "step = 2200: loss = 1.3282620906829834\n",
            "step = 2400: loss = 1.3025850057601929\n",
            "step = 2600: loss = 3.252427577972412\n",
            "step = 2800: loss = 1.015945553779602\n",
            "step = 3000: loss = 0.8014634847640991\n",
            "step = 3200: loss = 0.6801434755325317\n",
            "step = 3400: loss = 0.5583529472351074\n",
            "step = 3600: loss = 1.0070347785949707\n",
            "step = 3800: loss = 0.20799817144870758\n",
            "step = 4000: loss = 0.6453462839126587\n",
            "step = 4200: loss = 0.37738335132598877\n",
            "step = 4400: loss = 0.7961136698722839\n",
            "step = 4600: loss = 0.8153690099716187\n",
            "step = 4800: loss = 0.8035784959793091\n",
            "step = 5000: loss = 0.4311295747756958\n",
            "step = 5000: Average Return = -600.0\n",
            "step = 5200: loss = 0.26226502656936646\n",
            "step = 5400: loss = 5.321073532104492\n",
            "step = 5600: loss = 0.3243056535720825\n",
            "step = 5800: loss = 21.884878158569336\n",
            "step = 6000: loss = 0.4715668261051178\n",
            "step = 6200: loss = 34.805328369140625\n",
            "step = 6400: loss = 1.4813432693481445\n",
            "step = 6600: loss = 2.6856112480163574\n",
            "step = 6800: loss = 1.007835030555725\n",
            "step = 7000: loss = 0.978182315826416\n",
            "step = 7200: loss = 0.43792229890823364\n",
            "step = 7400: loss = 6.002434730529785\n",
            "step = 7600: loss = 1.5607949495315552\n",
            "step = 7800: loss = 5.085936546325684\n",
            "step = 8000: loss = 0.6613308787345886\n",
            "step = 8200: loss = 5.028707027435303\n",
            "step = 8400: loss = 7.780642032623291\n",
            "step = 8600: loss = 0.8117749691009521\n",
            "step = 8800: loss = 3.124844789505005\n",
            "step = 9000: loss = 1.4270957708358765\n",
            "step = 9200: loss = 2.0319344997406006\n",
            "step = 9400: loss = 2.0033187866210938\n",
            "step = 9600: loss = 1.674216389656067\n",
            "step = 9800: loss = 3.327629804611206\n",
            "step = 10000: loss = 0.5911891460418701\n",
            "step = 10000: Average Return = -317.6666564941406\n",
            "step = 10200: loss = 0.9496047496795654\n",
            "step = 10400: loss = 0.6804254651069641\n",
            "step = 10600: loss = 0.669562578201294\n",
            "step = 10800: loss = 0.6714162826538086\n",
            "step = 11000: loss = 0.5384030938148499\n",
            "step = 11200: loss = 0.22457394003868103\n",
            "step = 11400: loss = 0.7076491117477417\n",
            "step = 11600: loss = 0.6212489008903503\n",
            "step = 11800: loss = 7.968418598175049\n",
            "step = 12000: loss = 1.499867558479309\n",
            "step = 12200: loss = 3.171272039413452\n",
            "step = 12400: loss = 0.5366379022598267\n",
            "step = 12600: loss = 0.6035277843475342\n",
            "step = 12800: loss = 0.3524462580680847\n",
            "step = 13000: loss = 0.5140920877456665\n",
            "step = 13200: loss = 0.779900074005127\n",
            "step = 13400: loss = 1.9387993812561035\n",
            "step = 13600: loss = 1.025315284729004\n",
            "step = 13800: loss = 4.2325592041015625\n",
            "step = 14000: loss = 2.1794776916503906\n",
            "step = 14200: loss = 8.974021911621094\n",
            "step = 14400: loss = 0.389506995677948\n",
            "step = 14600: loss = 0.2858279347419739\n",
            "step = 14800: loss = 0.3019754886627197\n",
            "step = 15000: loss = 0.2872616648674011\n",
            "step = 15000: Average Return = -292.3333435058594\n",
            "step = 15200: loss = 0.5510215759277344\n",
            "step = 15400: loss = 1.1562905311584473\n",
            "step = 15600: loss = 2.4950337409973145\n",
            "step = 15800: loss = 6.027096748352051\n",
            "step = 16000: loss = 1.3620120286941528\n",
            "step = 16200: loss = 0.7999030947685242\n",
            "step = 16400: loss = 0.5973342657089233\n",
            "step = 16600: loss = 0.3562018871307373\n",
            "step = 16800: loss = 0.27098923921585083\n",
            "step = 17000: loss = 0.41424572467803955\n",
            "step = 17200: loss = 0.19412685930728912\n",
            "step = 17400: loss = 0.5284150838851929\n",
            "step = 17600: loss = 1.4855737686157227\n",
            "step = 17800: loss = 1.0938960313796997\n",
            "step = 18000: loss = 0.575270414352417\n",
            "step = 18200: loss = 0.5707431435585022\n",
            "step = 18400: loss = 0.333444207906723\n",
            "step = 18600: loss = 0.2274225652217865\n",
            "step = 18800: loss = 2.9408528804779053\n",
            "step = 19000: loss = 0.4058184027671814\n",
            "step = 19200: loss = 0.2325705885887146\n",
            "step = 19400: loss = 0.5337687730789185\n",
            "step = 19600: loss = 0.36313772201538086\n",
            "step = 19800: loss = 0.8030128479003906\n",
            "step = 20000: loss = 0.7340319156646729\n",
            "step = 20000: Average Return = -148.0\n"
          ],
          "name": "stdout"
        }
      ]
    },
    {
      "cell_type": "markdown",
      "metadata": {
        "id": "68jNcA_TiJDq"
      },
      "source": [
        "## Visualization\n"
      ]
    },
    {
      "cell_type": "code",
      "metadata": {
        "id": "NxtL1mbOYCVO",
        "colab": {
          "base_uri": "https://localhost:8080/",
          "height": 296
        },
        "outputId": "b6bf9d60-cd70-448d-f55e-96a9ae49c541"
      },
      "source": [
        "iterations = range(0, num_iterations + 1, eval_interval*5)\n",
        "plt.plot(iterations, returns)\n",
        "plt.ylabel('Average Return')\n",
        "plt.xlabel('Iterations')\n",
        "# plt.ylim(top=550)"
      ],
      "execution_count": null,
      "outputs": [
        {
          "output_type": "execute_result",
          "data": {
            "text/plain": [
              "Text(0.5, 0, 'Iterations')"
            ]
          },
          "metadata": {
            "tags": []
          },
          "execution_count": 17
        },
        {
          "output_type": "display_data",
          "data": {
            "image/png": "[encoded data removed]",
            "text/plain": [
              "<Figure size 432x288 with 1 Axes>"
            ]
          },
          "metadata": {
            "tags": [],
            "needs_background": "light"
          }
        }
      ]
    },
    {
      "cell_type": "markdown",
      "metadata": {
        "id": "9pGfGxSH32gn"
      },
      "source": [
        "Charts are nice. But more exciting is seeing an agent actually performing a task in an environment. \n",
        "\n",
        "First, create a function to embed videos in the notebook."
      ]
    },
    {
      "cell_type": "code",
      "metadata": {
        "id": "ULaGr8pvOKbl"
      },
      "source": [
        "def embed_mp4(filename):\n",
        "  \"\"\"Embeds an mp4 file in the notebook.\"\"\"\n",
        "  video = open(filename,'rb').read()\n",
        "  b64 = base64.b64encode(video)\n",
        "  tag = '''\n",
        "  <video width=\"640\" height=\"480\" controls>\n",
        "    <source src=\"data:video/mp4;base64,{0}\" type=\"video/mp4\">\n",
        "  Your browser does not support the video tag.\n",
        "  </video>'''.format(b64.decode())\n",
        "\n",
        "  return IPython.display.HTML(tag)\n",
        "\n",
        "def create_policy_eval_video(policy, filename, num_episodes=1, fps=30):\n",
        "  filename = filename + \".mp4\"\n",
        "  with imageio.get_writer(filename, fps=fps) as video:\n",
        "    for _ in range(num_episodes):\n",
        "      time_step = eval_env.reset()\n",
        "      video.append_data(eval_py_env.render())\n",
        "      while not time_step.is_last():\n",
        "        action_step = policy.action(time_step)\n",
        "        time_step = eval_env.step(action_step.action)\n",
        "        video.append_data(eval_py_env.render())\n",
        "  return embed_mp4(filename)"
      ],
      "execution_count": null,
      "outputs": []
    },
    {
      "cell_type": "code",
      "metadata": {
        "id": "Vk2DAVkS14Ld",
        "colab": {
          "base_uri": "https://localhost:8080/",
          "height": 539
        },
        "outputId": "68dbe525-6e2d-40ef-cebd-170702ba25cd"
      },
      "source": [
        "create_policy_eval_video(agent.policy, \"trained-agent\")"
      ],
      "execution_count": null,
      "outputs": [
        {
          "output_type": "stream",
          "text": [
            "WARNING:root:IMAGEIO FFMPEG_WRITER WARNING: input image is not divisible by macro_block_size=16, resizing from (400, 600) to (400, 608) to ensure video compatibility with most codecs and players. To prevent resizing, make your input image divisible by the macro_block_size or set the macro_block_size to None (risking incompatibility). You may also see a FFMPEG warning concerning speedloss due to data not being aligned.\n"
          ],
          "name": "stderr"
        },
        {
          "output_type": "execute_result",
          "data": {
            "text/html": [
              "\n",
              "  <video width=\"640\" height=\"480\" controls>\n",
              "    <source src=\"data:video/mp4;base64,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\" type=\"video/mp4\">\n",
              "  Your browser does not support the video tag.\n",
              "  </video>"
            ],
            "text/plain": [
              "<IPython.core.display.HTML object>"
            ]
          },
          "metadata": {
            "tags": []
          },
          "execution_count": 19
        }
      ]
    }
  ]
}